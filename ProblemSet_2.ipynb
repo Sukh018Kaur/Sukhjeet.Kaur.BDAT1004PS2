{
 "cells": [
  {
   "cell_type": "markdown",
   "id": "e889bf88",
   "metadata": {},
   "source": [
    "# Problem Set 2                                                            "
   ]
  },
  {
   "cell_type": "markdown",
   "id": "bebaaef9",
   "metadata": {},
   "source": [
    "# Question 1 "
   ]
  },
  {
   "cell_type": "markdown",
   "id": "d73da02c",
   "metadata": {},
   "source": [
    "Consider the following Python module:\n",
    "a = 0\n",
    "def b():\n",
    " global a\n",
    " a = c(a)\n",
    "def c(a):\n",
    " return a + 2\n",
    "After importing the module into the interpreter, you execute:\n",
    ">>> b()\n",
    ">>> b()\n",
    ">>> b()\n",
    ">>> a\n",
    "?\n",
    "What value is displayed when the last expression (a) is evaluated? Explain your answer by indicating what happens in every executed statement."
   ]
  },
  {
   "cell_type": "code",
   "execution_count": 3,
   "id": "ddf8c0cc",
   "metadata": {},
   "outputs": [
    {
     "name": "stdout",
     "output_type": "stream",
     "text": [
      "6\n"
     ]
    }
   ],
   "source": [
    "a = 0\n",
    "\n",
    "def b():\n",
    "    global a\n",
    "    a = c(a)\n",
    "\n",
    "def c(a):\n",
    "    return a + 2\n",
    "\n",
    "b()  # Calls b(), which calls c(a) and sets a = c(a) = c(0) = 2\n",
    "b()  # Calls b() again, which calls c(a) and sets a = c(a) = c(2) = 4\n",
    "b()  # Calls b() again, which calls c(a) and sets a = c(a) = c(4) = 6\n",
    "\n",
    "print(a)  # Displays the current value of a, which is 6"
   ]
  },
  {
   "cell_type": "markdown",
   "id": "28aa13b6",
   "metadata": {},
   "source": [
    "# Answer:\n",
    "a) Initially, a is set to 0.\n",
    "\n",
    "b) The function b() is defined, which uses the global keyword to modify the global variable a by assigning it the result of \n",
    "calling c(a).\n",
    "\n",
    "c) The function c(a) adds 2 to the input a.\n",
    "\n",
    "After executing the provided sequence of statements, the value of a is 6. Each call to b() increments a by 2 (the result of \n",
    "calling c(a)), so a becomes 2, then 4, and finally 6"
   ]
  },
  {
   "cell_type": "markdown",
   "id": "2c2c9900",
   "metadata": {},
   "source": [
    "# Question 2"
   ]
  },
  {
   "cell_type": "markdown",
   "id": "6f8fcea5",
   "metadata": {},
   "source": [
    "Function fileLength(), given to you, takes the name of a file as input and returns \n",
    "the length of the file:\n",
    ">>> fileLength('midterm.py')\n",
    "284\n",
    ">>> fileLength('idterm.py')\n",
    "Traceback (most recent call last):\n",
    "File \"<pyshell#34>\", line 1, in <module>\n",
    " fileLength('idterm.py')\n",
    "File \"/Users/me/midterm.py\", line 3, in fileLength\n",
    " infile = open(filename)\n",
    "FileNotFoundError: [Errno 2] No such file or directory: \n",
    "'idterm.py'\n",
    "As shown above, if the file cannot be found by the interpreter or if it cannot be read \n",
    "as a text file, an exception will be raised. Modify function fileLength() so that a \n",
    "friendly message is printed instead:\n",
    ">>> fileLength('midterm.py')\n",
    "358\n",
    ">>> fileLength('idterm.py')\n",
    "File idterm.py not found."
   ]
  },
  {
   "cell_type": "code",
   "execution_count": 4,
   "id": "0ea87662",
   "metadata": {},
   "outputs": [
    {
     "name": "stdout",
     "output_type": "stream",
     "text": [
      "File midterm.py not found.\n",
      "File idterm.py not found.\n"
     ]
    }
   ],
   "source": [
    "def fileLength(filename):\n",
    "    try:\n",
    "        with open(filename) as infile:\n",
    "            content = infile.read()\n",
    "            print(\"FileLength('\" + filename + \"')\")\n",
    "            print(len(content))\n",
    "    except FileNotFoundError:\n",
    "        print(\"File \" + filename + \" not found.\")\n",
    "\n",
    "\n",
    "fileLength('midterm.py')\n",
    "fileLength('idterm.py') "
   ]
  },
  {
   "cell_type": "markdown",
   "id": "4868ba69",
   "metadata": {},
   "source": [
    "# Question 3"
   ]
  },
  {
   "cell_type": "markdown",
   "id": "8b4a2bde",
   "metadata": {},
   "source": [
    "Write a class named Marsupial that can be used as shown below:\n",
    ">>> m = Marsupial()\n",
    ">>> m.put_in_pouch('doll')\n",
    ">>> m.put_in_pouch('firetruck')\n",
    ">>> m.put_in_pouch('kitten')\n",
    ">>> m.pouch_contents()\n",
    "['doll', 'firetruck', 'kitten']\n",
    "Now write a class named Kangaroo as a subclass of Marsupial that inherits all the attributes of Marsupial and also:\n",
    "a. extends the Marsupial __init__ constructor to take, as input, the coordinates x and y of the Kangaroo object,\n",
    "b. supports method jump that takes number values dx and dy as input and moves the kangaroo by dx units along the x-axis and by dy units along the y-axis, and\n",
    "c. overloads the __str__ operator so it behaves as shown below.\n",
    "\n",
    ">>> k = Kangaroo(0,0)\n",
    ">>> print(k)\n",
    "I am a Kangaroo located at coordinates (0,0)\n",
    ">>> k.put_in_pouch('doll')\n",
    ">>> k.put_in_pouch('firetruck')\n",
    ">>> k.put_in_pouch('kitten')\n",
    ">>> k.pouch_contents()\n",
    "['doll', 'firetruck', 'kitten']\n",
    ">>> k.jump(1,0)\n",
    ">>> k.jump(1,0)\n",
    ">>> k.jump(1,0)\n",
    ">>> print(k)\n",
    "I am a Kangaroo located at coordinates (3,0)"
   ]
  },
  {
   "cell_type": "code",
   "execution_count": 6,
   "id": "9f3bb42e",
   "metadata": {},
   "outputs": [
    {
     "name": "stdout",
     "output_type": "stream",
     "text": [
      "Contents of the Marsupial pouch: ['doll', 'firetruck', 'kitten']\n",
      "I am a Kangaroo located at coordinates (0, 0)\n",
      "Contents of the Kangaroo pouch: ['doll', 'firetruck', 'kitten']\n",
      "I am a Kangaroo located at coordinates (3, 0)\n"
     ]
    }
   ],
   "source": [
    "class Marsupial:\n",
    "    def __init__(self):\n",
    "        self.pouch = []  \n",
    "\n",
    "    def put_in_pouch(self, item):\n",
    "        self.pouch.append(item) \n",
    "\n",
    "    def pouch_contents(self):\n",
    "        return self.pouch  \n",
    "\n",
    "class Kangaroo(Marsupial):\n",
    "    def __init__(self, x, y):\n",
    "        super().__init__()  \n",
    "        self.x = x  \n",
    "        self.y = y  \n",
    "\n",
    "    def jump(self, dx, dy):\n",
    "        self.x += dx\n",
    "        self.y += dy\n",
    "\n",
    "    def __str__(self):\n",
    "        return 'I am a Kangaroo located at coordinates (' + str(self.x) + ', ' + str(self.y) + ')'\n",
    "\n",
    "m = Marsupial()\n",
    "m.put_in_pouch('doll')\n",
    "m.put_in_pouch('firetruck')\n",
    "m.put_in_pouch('kitten')\n",
    "print('Contents of the Marsupial pouch:', m.pouch_contents())\n",
    "\n",
    "k = Kangaroo(0, 0)\n",
    "print(k)  \n",
    "k.put_in_pouch('doll')\n",
    "k.put_in_pouch('firetruck')\n",
    "k.put_in_pouch('kitten')\n",
    "print('Contents of the Kangaroo pouch:', k.pouch_contents())\n",
    "\n",
    "k.jump(1, 0)\n",
    "k.jump(1, 0)\n",
    "k.jump(1, 0)\n",
    "print(k)"
   ]
  },
  {
   "cell_type": "markdown",
   "id": "dbfb1efb",
   "metadata": {},
   "source": [
    "# Question 4"
   ]
  },
  {
   "cell_type": "markdown",
   "id": "e69d0a3f",
   "metadata": {},
   "source": [
    "Write function collatz() that takes a positive integer x as input and prints the Collatz sequence starting at x. A Collatz sequence is obtained by repeatedly applying this rule to the previous number x in the sequence:\n",
    "x = {\n",
    "𝑥/2 𝑖𝑓 𝑥 𝑖𝑠 𝑒𝑣𝑒𝑛\n",
    "3𝑥 + 1 𝑖𝑓 𝑥 𝑖𝑠 𝑜𝑑𝑑\n",
    "Your function should stop when the sequence gets to number 1. Your implementation must be recursive, without any loops.\n",
    ">>> collatz(1)\n",
    "1\n",
    ">>> collatz(10)\n",
    "10\n",
    "5\n",
    "16\n",
    "8\n",
    "4\n",
    "2\n",
    "1"
   ]
  },
  {
   "cell_type": "code",
   "execution_count": 41,
   "id": "958c175b",
   "metadata": {},
   "outputs": [
    {
     "name": "stdout",
     "output_type": "stream",
     "text": [
      "Collatz sequence for 1:\n",
      "1\n",
      "\n",
      "Collatz sequence for 10:\n",
      "10\n",
      "5\n",
      "16\n",
      "8\n",
      "4\n",
      "2\n",
      "1\n"
     ]
    }
   ],
   "source": [
    "def collatz(x):\n",
    "   \n",
    "    print(x)  \n",
    "\n",
    "    if x == 1:  # Base case: Stop when x reaches 1\n",
    "        return\n",
    "    if x % 2 == 0:\n",
    "        collatz(x // 2) # If x is even, divide by 2 and call collatz with the result\n",
    "    else:\n",
    "        collatz(3 * x + 1) # If x is odd, apply the 3x + 1 rule and call collatz with the result\n",
    "\n",
    "print(\"Collatz sequence for 1:\")\n",
    "collatz(1)\n",
    "print(\"\\nCollatz sequence for 10:\")\n",
    "collatz(10)"
   ]
  },
  {
   "cell_type": "markdown",
   "id": "3a816488",
   "metadata": {},
   "source": [
    "# Question 5"
   ]
  },
  {
   "cell_type": "markdown",
   "id": "1b240740",
   "metadata": {},
   "source": [
    "Write a recursive method binary() that takes a non-negative integer n and prints the binary representation of integer n.\n",
    ">>> binary(0)\n",
    "0\n",
    ">>> binary(1)\n",
    "1\n",
    ">>> binary(3)\n",
    "11\n",
    ">>> binary(9)\n",
    "1001"
   ]
  },
  {
   "cell_type": "code",
   "execution_count": 23,
   "id": "f7c09efb",
   "metadata": {},
   "outputs": [
    {
     "name": "stdout",
     "output_type": "stream",
     "text": [
      "Binary representation of 0: 0\n",
      "Binary representation of 1: 01\n",
      "Binary representation of 3: 011\n",
      "Binary representation of 9: 01001\n"
     ]
    }
   ],
   "source": [
    "def binary(n):\n",
    "    if n == 0: \n",
    "        return '0'\n",
    "    \n",
    "    return binary(n // 2) + str(n % 2)  \n",
    "\n",
    "print(\"Binary representation of 0:\", binary(0))\n",
    "print(\"Binary representation of 1:\", binary(1))\n",
    "print(\"Binary representation of 3:\", binary(3))\n",
    "print(\"Binary representation of 9:\", binary(9))"
   ]
  },
  {
   "cell_type": "markdown",
   "id": "f5a74b8d",
   "metadata": {},
   "source": [
    "# Question 6"
   ]
  },
  {
   "cell_type": "markdown",
   "id": "5e45bbeb",
   "metadata": {},
   "source": [
    "Implement a class named HeadingParser that can be used to parse an HTML document, and retrieve and print all the headings in the document. You should implement your class as a subclass of HTMLParser, defined in Standard Library module html.parser. When fed a string containingHTML code, your class should print the headings, one per line and in the order in which they appear in the document. Eachheading should be indented as follows: an h1 heading should have indentation 0, and h2 heading should have indentation 1, etc. Test your implementation using w3c.html.\n",
    ">>> infile = open('w3c.html')\n",
    ">>> content = infile.read()\n",
    ">>> infile.close()\n",
    ">>> hp = HeadingParser()\n",
    ">>> hp.feed(content)\n",
    "W3C Mission\n",
    "Principles"
   ]
  },
  {
   "cell_type": "code",
   "execution_count": 26,
   "id": "1c8c6c75",
   "metadata": {},
   "outputs": [
    {
     "name": "stdout",
     "output_type": "stream",
     "text": [
      "W3C Mission\n",
      " Principles\n"
     ]
    }
   ],
   "source": [
    "from html.parser import HTMLParser\n",
    "\n",
    "class HeadingParser(HTMLParser):\n",
    "    def __init__(self):\n",
    "        super().__init__()\n",
    "        self.headings = []\n",
    "\n",
    "    def handle_starttag(self, tag, attrs):\n",
    "        if tag.startswith('h') and tag[1:].isdigit():\n",
    "            indentation = int(tag[1]) - 1  \n",
    "            self.headings.append(' ' * indentation)  \n",
    "\n",
    "    def handle_data(self, data):\n",
    "        if self.headings:\n",
    "            self.headings[-1] += data.strip()  \n",
    "\n",
    "    def get_headings(self):\n",
    "        return self.headings\n",
    "file_path = r'C:\\Users\\hp\\Desktop\\BDAT\\sem- 2\\data programming-04\\w3c.txt'\n",
    "\n",
    "with open(file_path, 'r') as infile:\n",
    "    content = infile.read()  # Read the content of the HTML file\n",
    "\n",
    "hp = HeadingParser()  \n",
    "hp.feed(content)  \n",
    "\n",
    "headings = hp.get_headings()  \n",
    "for heading in headings:\n",
    " print(heading)  "
   ]
  },
  {
   "cell_type": "markdown",
   "id": "3deb2a36",
   "metadata": {},
   "source": [
    "# Question 7"
   ]
  },
  {
   "cell_type": "markdown",
   "id": "95beec36",
   "metadata": {},
   "source": [
    "Implement recursive function webdir() that takes as input: a URL (as a string) and non-negative integers depth and indent. Your\n",
    "function should visit every web page reachable from the starting URL web page in depth clicks or less, and print each web page's\n",
    "URL. As shown below, indentation, specified by indent, should be used to indicate the depth of a URL.\n",
    ">>> \n",
    "webdir('http://reed.cs.depaul.edu/lperkovic/csc242/test1.html', 2, 0)\n",
    "http://reed.cs.depaul.edu/lperkovic/csc242/test1.html\n",
    " http://reed.cs.depaul.edu/lperkovic/csc242/test2.html\n",
    " http://reed.cs.depaul.edu/lperkovic/csc242/test4.html\n",
    " http://reed.cs.depaul.edu/lperkovic/csc242/test3.html\n",
    " http://reed.cs.depaul.edu/lperkovic/csc242/test4.html"
   ]
  },
  {
   "cell_type": "code",
   "execution_count": 33,
   "id": "3d57a70a",
   "metadata": {
    "scrolled": false
   },
   "outputs": [
    {
     "name": "stdout",
     "output_type": "stream",
     "text": [
      "http://reed.cs.depaul.edu/lperkovic/csc242/test1.html\n"
     ]
    }
   ],
   "source": [
    "import requests\n",
    "from bs4 import BeautifulSoup\n",
    "def fetch_urls(url):\n",
    "   \n",
    "    # Send a GET request to fetch the web page content\n",
    "    response = requests.get(url)\n",
    "\n",
    "    # Parse the HTML content\n",
    "    soup = BeautifulSoup(response.text, 'html.parser')\n",
    "\n",
    "    # Extract URLs from 'a' tags with 'href' attribute\n",
    "    urls = [a['href'] for a in soup.find_all('a', href=True)]\n",
    "    return urls\n",
    "\n",
    "def webdir(url, depth, indent):\n",
    "    \"\"\"\n",
    "Visit web pages reachable from the starting URL up to the specified depth and print each web page's URL with proper indentation.\n",
    "    Parameters:\n",
    "    url (str): The URL of the current web page.\n",
    "    depth (int): The maximum depth for visiting web pages.\n",
    "    indent (int): The indentation level for displaying URLs.\n",
    "    \"\"\"\n",
    "    # Base case: If depth is less than 0, stop recursion\n",
    "    if depth < 0:\n",
    "        return\n",
    "\n",
    "    # Print the current URL with proper indentation\n",
    "    print(' ' * indent + url)\n",
    "\n",
    "    # Fetch URLs from the current page\n",
    "    urls = fetch_urls(url)\n",
    "\n",
    "    # Recursively visit each URL with reduced depth and increased indentation\n",
    "    for next_url in urls:\n",
    "        webdir(next_url, depth - 1, indent + 1)\n",
    "\n",
    "\n",
    "webdir('http://reed.cs.depaul.edu/lperkovic/csc242/test1.html', 2, 0)"
   ]
  },
  {
   "cell_type": "markdown",
   "id": "c5dcc55c",
   "metadata": {},
   "source": [
    "# Question 8"
   ]
  },
  {
   "attachments": {},
   "cell_type": "markdown",
   "id": "7223c658",
   "metadata": {},
   "source": [
    "Write SQL queries on the below database table that return: \n",
    "a) All the temperature data.\n",
    "b) All the cities, but without repetition.\n",
    "c) All the records for India.\n",
    "d) All the Fall records.\n",
    "e) The city, country, and season for which the average rainfall is between 200 and 400 millimeters.\n",
    "f) The city and country for which the average Fall temperature is above 20 degrees, in increasing temperature order.\n",
    "g) The total annual rainfall for Cairo.\n",
    "h) The total rainfall for each season.\n",
    "  \n",
    "  City         Country               Season           Temperature(C)     Rainfall (mm)\n",
    " Mumbai         India                Winter                24.8             5.9 \n",
    " Mumbai         India                Spring                28.4             16.2 \n",
    " Mumbai         India                Summer                27.9             1549.4 \n",
    " Mumbai         India                Fall                  27.6             346.0 \n",
    " London         United Kingdom       Winter                4.2              207.7 \n",
    " London         United Kingdom       Spring                8.3              169.6 \n",
    " London         United Kingdom       Summer                15.7             157.0 \n",
    " London         United Kingdom       Fall                  10.4             218.5 \n",
    " Cairo          Egypt                Winter                13.6             16.5 \n",
    " Cairo          Egypt                Spring                20.7             6.5 \n",
    " Cairo          Egypt                Summer                27.7             0.1 \n",
    " Cairo          Egypt                Fall                  22.2             4.5"
   ]
  },
  {
   "cell_type": "markdown",
   "id": "58444830",
   "metadata": {},
   "source": [
    "# answer"
   ]
  },
  {
   "cell_type": "markdown",
   "id": "0100ed8f",
   "metadata": {},
   "source": [
    "a) All the temperature data.\n",
    "\n",
    "SELECT Temperature FROM WeatherData; // Database name used as WeatherData"
   ]
  },
  {
   "cell_type": "markdown",
   "id": "0efaea32",
   "metadata": {},
   "source": [
    "b) All the cities, but without repetition.\n",
    "\n",
    "SELECT DISTINCT City FROM WeatherData; // Database name used as WeatherData"
   ]
  },
  {
   "cell_type": "markdown",
   "id": "08b5f4ff",
   "metadata": {},
   "source": [
    "c) All the records for India.\n",
    "\n",
    "SELECT * FROM WeatherData WHERE Country = 'India'; // Database name used as WeatherData"
   ]
  },
  {
   "cell_type": "markdown",
   "id": "7d5e42e7",
   "metadata": {},
   "source": [
    "d) All the Fall records.\n",
    "\n",
    "SELECT * FROM WeatherData WHERE Season = 'Fall'; // Database name used as WeatherData"
   ]
  },
  {
   "cell_type": "markdown",
   "id": "54c227c1",
   "metadata": {},
   "source": [
    "e) The city, country, and season for which the average rainfall is between 200 and 400 millimeters.\n",
    "\n",
    "SELECT City, Country, Season FROM WeatherData GROUP BY City, Country, Season HAVING AVG(Rainfall) BETWEEN 200 AND 400; \n",
    "// Database name used as WeatherData"
   ]
  },
  {
   "cell_type": "markdown",
   "id": "6fb69f78",
   "metadata": {},
   "source": [
    "f) The city and country for which the average Fall temperature is above 20 degrees, in increasing temperature order.\n",
    "\n",
    "SELECT City, Country FROM WeatherData WHERE Season = 'Fall' GROUP BY City, Country HAVING AVG(Temperature) > 20 ORDER BY AVG(Temperature) ASC; \n",
    "// Database name used as WeatherData"
   ]
  },
  {
   "cell_type": "markdown",
   "id": "704b9d65",
   "metadata": {},
   "source": [
    "g) The total annual rainfall for Cairo.\n",
    "\n",
    "SELECT SUM(Rainfall) AS TotalRainfall FROM WeatherData WHERE City = 'Cairo'; // Database name used as WeatherData"
   ]
  },
  {
   "cell_type": "markdown",
   "id": "72bb967a",
   "metadata": {},
   "source": [
    "h) The total rainfall for each season.\n",
    "\n",
    "SELECT Season, SUM(Rainfall) AS TotalRainfall FROM WeatherData GROUP BY Season; //Database name used as WeatherData"
   ]
  },
  {
   "cell_type": "markdown",
   "id": "7cd09433",
   "metadata": {},
   "source": [
    "# Question 9"
   ]
  },
  {
   "cell_type": "markdown",
   "id": "c26b6a21",
   "metadata": {},
   "source": [
    ". Suppose list words is defined as follows:\n",
    ">>> words = ['The', 'quick', 'brown', 'fox', 'jumps', 'over', \n",
    "'the', 'lazy', 'dog']\n",
    "Write list comprehension expressions that use list words and generate the following \n",
    "lists:"
   ]
  },
  {
   "cell_type": "markdown",
   "id": "5aa47329",
   "metadata": {},
   "source": [
    "a) ['THE', 'QUICK', 'BROWN', 'FOX', 'JUMPS', 'OVER', 'THE', 'LAZY', 'DOG']"
   ]
  },
  {
   "cell_type": "code",
   "execution_count": 36,
   "id": "3bba8412",
   "metadata": {},
   "outputs": [
    {
     "name": "stdout",
     "output_type": "stream",
     "text": [
      "['THE', 'QUICK', 'BROWN', 'FOX', 'JUMPS', 'OVER', 'THE', 'LAZY', 'DOG']\n"
     ]
    }
   ],
   "source": [
    "words = ['The', 'quick', 'brown', 'fox', 'jumps', 'over', 'the', 'lazy', 'dog'] \n",
    "\n",
    "upper_words = [word.upper() for word in words]\n",
    "print(upper_words)"
   ]
  },
  {
   "cell_type": "markdown",
   "id": "c6122be1",
   "metadata": {},
   "source": [
    "b) ['the', 'quick', 'brown', 'fox', 'jumps', 'over', 'the', 'lazy', 'dog']"
   ]
  },
  {
   "cell_type": "code",
   "execution_count": 37,
   "id": "57cf928d",
   "metadata": {},
   "outputs": [
    {
     "name": "stdout",
     "output_type": "stream",
     "text": [
      "['the', 'quick', 'brown', 'fox', 'jumps', 'over', 'the', 'lazy', 'dog']\n"
     ]
    }
   ],
   "source": [
    "words = ['The', 'quick', 'brown', 'fox', 'jumps', 'over', 'the', 'lazy', 'dog']\n",
    "\n",
    "lower_words = [word.lower() for word in words]\n",
    "print(lower_words)"
   ]
  },
  {
   "cell_type": "markdown",
   "id": "29e7a32b",
   "metadata": {},
   "source": [
    "c) [3, 5, 5, 3, 5, 4, 3, 4, 3] (the list of lengths of words in list words)."
   ]
  },
  {
   "cell_type": "code",
   "execution_count": 38,
   "id": "3b7a21cf",
   "metadata": {},
   "outputs": [
    {
     "name": "stdout",
     "output_type": "stream",
     "text": [
      "[3, 5, 5, 3, 5, 4, 3, 4, 3]\n"
     ]
    }
   ],
   "source": [
    "words = ['The', 'quick', 'brown', 'fox', 'jumps', 'over', 'the', 'lazy', 'dog']\n",
    "\n",
    "word_lengths = [len(word) for word in words]\n",
    "print(word_lengths)"
   ]
  },
  {
   "cell_type": "markdown",
   "id": "424e7b20",
   "metadata": {},
   "source": [
    "d) [['THE', 'the', 3], ['QUICK', 'quick', 5],['BROWN', 'brown', 5],['FOX', 'fox', 3], ['JUMPS', 'jumps', 5], ['OVER', 'over',4],\n",
    "['THE', 'the', 3], ['LAZY', 'lazy', 4],['DOG', 'dog', 3]] \n",
    "(the list containing a list for every word of list words, where each list contains the word in uppercase and lowercase and the length of the word.)"
   ]
  },
  {
   "cell_type": "code",
   "execution_count": 39,
   "id": "aff48e52",
   "metadata": {},
   "outputs": [
    {
     "name": "stdout",
     "output_type": "stream",
     "text": [
      "[['THE', 'the', 3], ['QUICK', 'quick', 5], ['BROWN', 'brown', 5], ['FOX', 'fox', 3], ['JUMPS', 'jumps', 5], ['OVER', 'over', 4], ['THE', 'the', 3], ['LAZY', 'lazy', 4], ['DOG', 'dog', 3]]\n"
     ]
    }
   ],
   "source": [
    "words = ['The', 'quick', 'brown', 'fox', 'jumps', 'over', 'the', 'lazy', 'dog']\n",
    "\n",
    "word_upper_lower_length = [[word.upper(), word.lower(), len(word)] for word in words]\n",
    "print(word_upper_lower_length)"
   ]
  },
  {
   "cell_type": "markdown",
   "id": "0f39bcc1",
   "metadata": {},
   "source": [
    "e) ['The', 'quick', 'brown', 'fox', 'jumps', 'over', 'the', 'lazy', 'dog'] \n",
    "(the list of words in list words containing 4 or more characters.)"
   ]
  },
  {
   "cell_type": "code",
   "execution_count": 40,
   "id": "177f2b58",
   "metadata": {},
   "outputs": [
    {
     "name": "stdout",
     "output_type": "stream",
     "text": [
      "['quick', 'brown', 'jumps', 'over', 'lazy']\n"
     ]
    }
   ],
   "source": [
    "words = ['The', 'quick', 'brown', 'fox', 'jumps', 'over', 'the', 'lazy', 'dog']\n",
    "\n",
    "char_4_or_more = [word for word in words if len(word) >= 4]\n",
    "print(char_4_or_more)"
   ]
  },
  {
   "cell_type": "code",
   "execution_count": null,
   "id": "7fc2b791",
   "metadata": {},
   "outputs": [],
   "source": []
  }
 ],
 "metadata": {
  "kernelspec": {
   "display_name": "Python 3 (ipykernel)",
   "language": "python",
   "name": "python3"
  },
  "language_info": {
   "codemirror_mode": {
    "name": "ipython",
    "version": 3
   },
   "file_extension": ".py",
   "mimetype": "text/x-python",
   "name": "python",
   "nbconvert_exporter": "python",
   "pygments_lexer": "ipython3",
   "version": "3.11.4"
  }
 },
 "nbformat": 4,
 "nbformat_minor": 5
}
